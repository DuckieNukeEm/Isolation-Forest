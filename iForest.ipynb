{
 "cells": [
  {
   "cell_type": "markdown",
   "metadata": {},
   "source": [
    "# Building Isolation tree in Python"
   ]
  },
  {
   "cell_type": "code",
   "execution_count": 1,
   "metadata": {},
   "outputs": [],
   "source": [
    "import pandas as pd\n",
    "import numpy as np\n",
    "import random as rd"
   ]
  },
  {
   "cell_type": "markdown",
   "metadata": {},
   "source": [
    "#### Defining base Functions"
   ]
  },
  {
   "cell_type": "code",
   "execution_count": 2,
   "metadata": {},
   "outputs": [],
   "source": [
    "def iTree(df, l, e = 0):\n",
    "    \"\"\"Recursivley builds an iTree from a pandas data frame\n",
    "    df = the data\n",
    "    e = current depth\n",
    "    l = max depth\"\"\"\n",
    "    if df.shape[0] <= 1 or e >= l:\n",
    "        return {'NodeType' : 'External',\n",
    "               'Left' : None,\n",
    "               'Right' :  None,\n",
    "               'SplitAtt' : None,\n",
    "               'SplitVal' : None,\n",
    "               'Size' : df.shape[0],\n",
    "               'Depth' : e}\n",
    "    else:\n",
    "        q = rd.choice(df.columns.values)\n",
    "        p = np.random.uniform(low = df[q].min(), high = df[q].max())\n",
    "        return {'NodeType': 'Internal',\n",
    "               'Left' : iTree(df[df[q] < p], l, e + 1),\n",
    "               'Right' : iTree(df[df[q] >= p], l, e + 1), \n",
    "               'SplitAtt' : q,\n",
    "               'SplitVal' : p,\n",
    "               'Size': df.shape[0],\n",
    "                'Depth' : e\n",
    "               }\n",
    "    \n",
    "def USS(n):\n",
    "    \"\"\"average path length of unsuccessful search in BST\"\"\"\n",
    "    if n < 2:\n",
    "        return 0\n",
    "    elif n == 2:\n",
    "        return 1\n",
    "    else:\n",
    "        return (2.0 * (np.log(n - 1.0) + 0.5772156649) + 2.0 * (n - 1.0)/n)\n",
    "\n",
    "def PathLength(pnt, Tree, e = 0):\n",
    "    \"\"\" Get Path length of a data point (pnt) from a tree (Tree) \"\"\"\n",
    "    if Tree['NodeType'] == 'External':\n",
    "        return e + USS(Tree['Size']) \n",
    "    \n",
    "    else:\n",
    "        q = Tree['SplitAtt']\n",
    "        p = Tree['SplitVal']\n",
    "        if pnt[q] < p:\n",
    "            return PathLength(pnt, Tree['Left'], e + 1)\n",
    "        else:\n",
    "            return PathLength(pnt, Tree['Right'], e + 1)\n",
    "        \n",
    "        \n",
    "def iForest(df, nt , phi):\n",
    "    \"\"\"df - the data set, nt - the number of trees to build, phi - subsample size\"\"\"\n",
    "    Forest = [None] * nt\n",
    "    depth = np.ceil(np.log(phi))\n",
    "    for i in xrange(nt):\n",
    "        sub_sample = rd.sample(df.index, phi)\n",
    "        Tree = iTree(df.iloc[sub_sample,:], l = depth)\n",
    "        Forest[i] = Tree\n",
    "    return Forest\n",
    "\n",
    "def predict_iForest(df, Forest, Phi):\n",
    "    \"\"\"Takes an iForest and then predicts the values of each point, and then converts it into an anomoly score\"\"\"\n",
    "    PL = pd.Series(0, index = range(len(df)))\n",
    "    for i in range(len(Forest)):\n",
    "        Tree = Forest[i]\n",
    "        PL = PL + df.apply(lambda x: PathLength(x, Tree) , axis = 1)\n",
    "    PL = PL/len(Forest)\n",
    "    PL = np.power(2, -1 * PL/USS(Phi))\n",
    "    return PL    \n",
    "    \n",
    "def Print_iTree(Tree, Direction = None):\n",
    "    \"pretty prints an iTree\"\n",
    "    #getting number of indents\n",
    "    Prnt_str = ' ' * Tree['Depth'] + 'Depth: ' + str(Tree['Depth'])\n",
    "    if Direction != None:\n",
    "        Prnt_str = Prnt_str + ' (' + Direction + ')'\n",
    "    if Tree['NodeType'] == 'External':\n",
    "        Prnt_str = Prnt_str + ' - External Node - (' + str(Tree['Size']) + ')'\n",
    "        print(Prnt_str)\n",
    "    else:\n",
    "        Prnt_str = Prnt_str + ' - Split Var: ' +  str(Tree['SplitAtt']) + ' at ' + str(round(Tree['SplitVal'],4))\n",
    "        Prnt_str = Prnt_str + ' True: ' + str(round(Tree['Left']['Size']/(Tree['Size'] * 1.000),2) * 100) + '%'\n",
    "        Prnt_str = Prnt_str + ' (' + str(Tree['Size']) + ')'\n",
    "        print(Prnt_str)\n",
    "        Print_iTree(Tree['Left'], 'Left')\n",
    "        Print_iTree(Tree['Right'], 'Right')\n",
    "   "
   ]
  },
  {
   "cell_type": "markdown",
   "metadata": {},
   "source": [
    "### Building sample data set"
   ]
  },
  {
   "cell_type": "markdown",
   "metadata": {},
   "source": [
    "Building a sample data set that have five variables and 20,000 rows"
   ]
  },
  {
   "cell_type": "code",
   "execution_count": 3,
   "metadata": {},
   "outputs": [],
   "source": [
    "df =  pd.DataFrame(np.random.normal(0,1,100000).reshape(20000,5))"
   ]
  },
  {
   "cell_type": "markdown",
   "metadata": {},
   "source": [
    "Going to make roughly 5% of the vairables outliers"
   ]
  },
  {
   "cell_type": "code",
   "execution_count": 4,
   "metadata": {},
   "outputs": [],
   "source": [
    "df.iloc[1:1000, : ] = df.iloc[1:1000, : ] * 100"
   ]
  },
  {
   "cell_type": "code",
   "execution_count": 6,
   "metadata": {},
   "outputs": [
    {
     "data": {
      "text/html": [
       "<div>\n",
       "<style scoped>\n",
       "    .dataframe tbody tr th:only-of-type {\n",
       "        vertical-align: middle;\n",
       "    }\n",
       "\n",
       "    .dataframe tbody tr th {\n",
       "        vertical-align: top;\n",
       "    }\n",
       "\n",
       "    .dataframe thead th {\n",
       "        text-align: right;\n",
       "    }\n",
       "</style>\n",
       "<table border=\"1\" class=\"dataframe\">\n",
       "  <thead>\n",
       "    <tr style=\"text-align: right;\">\n",
       "      <th></th>\n",
       "      <th>0</th>\n",
       "      <th>1</th>\n",
       "      <th>2</th>\n",
       "      <th>3</th>\n",
       "      <th>4</th>\n",
       "    </tr>\n",
       "  </thead>\n",
       "  <tbody>\n",
       "    <tr>\n",
       "      <th>0</th>\n",
       "      <td>-1.360039</td>\n",
       "      <td>0.754741</td>\n",
       "      <td>0.735916</td>\n",
       "      <td>1.188438</td>\n",
       "      <td>-0.089023</td>\n",
       "    </tr>\n",
       "    <tr>\n",
       "      <th>1</th>\n",
       "      <td>156.425045</td>\n",
       "      <td>-184.315950</td>\n",
       "      <td>203.968584</td>\n",
       "      <td>-24.917730</td>\n",
       "      <td>104.560258</td>\n",
       "    </tr>\n",
       "    <tr>\n",
       "      <th>2</th>\n",
       "      <td>148.330996</td>\n",
       "      <td>114.054248</td>\n",
       "      <td>-18.369667</td>\n",
       "      <td>-107.845860</td>\n",
       "      <td>17.273466</td>\n",
       "    </tr>\n",
       "    <tr>\n",
       "      <th>3</th>\n",
       "      <td>-33.048664</td>\n",
       "      <td>33.278607</td>\n",
       "      <td>60.149266</td>\n",
       "      <td>36.048176</td>\n",
       "      <td>-84.744522</td>\n",
       "    </tr>\n",
       "    <tr>\n",
       "      <th>4</th>\n",
       "      <td>-16.110393</td>\n",
       "      <td>-80.782009</td>\n",
       "      <td>-81.301580</td>\n",
       "      <td>-14.556017</td>\n",
       "      <td>32.897648</td>\n",
       "    </tr>\n",
       "    <tr>\n",
       "      <th>5</th>\n",
       "      <td>-14.130154</td>\n",
       "      <td>-47.208320</td>\n",
       "      <td>-78.622111</td>\n",
       "      <td>51.259655</td>\n",
       "      <td>-44.270117</td>\n",
       "    </tr>\n",
       "    <tr>\n",
       "      <th>6</th>\n",
       "      <td>-90.536773</td>\n",
       "      <td>29.903436</td>\n",
       "      <td>-87.579522</td>\n",
       "      <td>18.887955</td>\n",
       "      <td>-119.215715</td>\n",
       "    </tr>\n",
       "    <tr>\n",
       "      <th>7</th>\n",
       "      <td>-93.688742</td>\n",
       "      <td>40.211375</td>\n",
       "      <td>-50.464986</td>\n",
       "      <td>-43.446238</td>\n",
       "      <td>-122.772799</td>\n",
       "    </tr>\n",
       "    <tr>\n",
       "      <th>8</th>\n",
       "      <td>172.132387</td>\n",
       "      <td>137.980752</td>\n",
       "      <td>81.130762</td>\n",
       "      <td>-16.978475</td>\n",
       "      <td>-131.120131</td>\n",
       "    </tr>\n",
       "    <tr>\n",
       "      <th>9</th>\n",
       "      <td>103.510952</td>\n",
       "      <td>142.973895</td>\n",
       "      <td>17.129006</td>\n",
       "      <td>-76.875710</td>\n",
       "      <td>27.776713</td>\n",
       "    </tr>\n",
       "  </tbody>\n",
       "</table>\n",
       "</div>"
      ],
      "text/plain": [
       "            0           1           2           3           4\n",
       "0   -1.360039    0.754741    0.735916    1.188438   -0.089023\n",
       "1  156.425045 -184.315950  203.968584  -24.917730  104.560258\n",
       "2  148.330996  114.054248  -18.369667 -107.845860   17.273466\n",
       "3  -33.048664   33.278607   60.149266   36.048176  -84.744522\n",
       "4  -16.110393  -80.782009  -81.301580  -14.556017   32.897648\n",
       "5  -14.130154  -47.208320  -78.622111   51.259655  -44.270117\n",
       "6  -90.536773   29.903436  -87.579522   18.887955 -119.215715\n",
       "7  -93.688742   40.211375  -50.464986  -43.446238 -122.772799\n",
       "8  172.132387  137.980752   81.130762  -16.978475 -131.120131\n",
       "9  103.510952  142.973895   17.129006  -76.875710   27.776713"
      ]
     },
     "execution_count": 6,
     "metadata": {},
     "output_type": "execute_result"
    }
   ],
   "source": [
    "df.head(10)"
   ]
  },
  {
   "cell_type": "markdown",
   "metadata": {},
   "source": [
    "### Testing an iTree"
   ]
  },
  {
   "cell_type": "markdown",
   "metadata": {},
   "source": [
    "Taking the above data and will build an iTree and see how the prediciton changes over itterations"
   ]
  },
  {
   "cell_type": "code",
   "execution_count": 8,
   "metadata": {},
   "outputs": [
    {
     "data": {
      "text/plain": [
       "19.354274084830074"
      ]
     },
     "execution_count": 8,
     "metadata": {},
     "output_type": "execute_result"
    }
   ],
   "source": [
    "Tree = iTree(df, np.ceil(np.log(256)))\n",
    "Pred_PathLength = PathLength(df.iloc[5,], Tree)\n",
    "Pred_PathLength"
   ]
  },
  {
   "cell_type": "markdown",
   "metadata": {},
   "source": [
    "Now running it over 100 itterations\n"
   ]
  },
  {
   "cell_type": "code",
   "execution_count": 9,
   "metadata": {},
   "outputs": [],
   "source": [
    "PL_outlier = pd.Series(np.zeros(100))\n",
    "PL_normal = pd.Series(np.zeros(100))"
   ]
  },
  {
   "cell_type": "code",
   "execution_count": 10,
   "metadata": {},
   "outputs": [],
   "source": [
    "for i in range(100):\n",
    "    sub_sample = rd.sample(df.index, 256)\n",
    "    Tree = iTree(df.iloc[sub_sample,:], np.ceil(np.log(256)))\n",
    "    \n",
    "    PL_outlier[i] = PathLength(df.iloc[1,], Tree)\n",
    "    PL_normal[i] = PathLength(df.iloc[3000,], Tree)"
   ]
  },
  {
   "cell_type": "markdown",
   "metadata": {},
   "source": [
    "How is the distribution of a normal point look"
   ]
  },
  {
   "cell_type": "code",
   "execution_count": 11,
   "metadata": {},
   "outputs": [
    {
     "data": {
      "text/plain": [
       "count    100.000000\n",
       "mean      19.629698\n",
       "std        1.323049\n",
       "min       13.348880\n",
       "25%       19.911980\n",
       "50%       20.107410\n",
       "75%       20.140605\n",
       "max       20.173257\n",
       "dtype: float64"
      ]
     },
     "execution_count": 11,
     "metadata": {},
     "output_type": "execute_result"
    }
   ],
   "source": [
    "PL_normal.describe()"
   ]
  },
  {
   "cell_type": "markdown",
   "metadata": {},
   "source": [
    "Here is the distribution of an outlier point"
   ]
  },
  {
   "cell_type": "code",
   "execution_count": 12,
   "metadata": {},
   "outputs": [
    {
     "data": {
      "text/plain": [
       "count    100.000000\n",
       "mean       4.088382\n",
       "std        3.272351\n",
       "min        1.000000\n",
       "25%        2.000000\n",
       "50%        4.000000\n",
       "75%        5.000000\n",
       "max       20.165143\n",
       "dtype: float64"
      ]
     },
     "execution_count": 12,
     "metadata": {},
     "output_type": "execute_result"
    }
   ],
   "source": [
    "PL_outlier.describe()"
   ]
  },
  {
   "cell_type": "markdown",
   "metadata": {},
   "source": [
    "So how does the subsample size change the predictions power. I'm going to run 100 forest per following sample size: {2,4,8,16,32,64,128,256,512,1024}"
   ]
  },
  {
   "cell_type": "code",
   "execution_count": 13,
   "metadata": {},
   "outputs": [],
   "source": [
    "PL_outlier = pd.DataFrame(np.zeros(100 * 10).reshape(100,10))\n",
    "PL_normal = pd.DataFrame(np.zeros(100 * 10).reshape(100,10))\n",
    "\n",
    "Sample_Range = [2, 4, 8, 16, 32, 64, 128, 256, 512, 1024]\n",
    "\n",
    "PL_outlier.columns = Sample_Range\n",
    "PL_normal.columns = Sample_Range\n",
    "\n",
    "for i in range(10):\n",
    "    for j in range(100):\n",
    "        sub_sample = rd.sample(df.index, Sample_Range[i])\n",
    "        Tree = iTree(df.iloc[sub_sample,:], np.ceil(np.log(Sample_Range[i])))\n",
    "    \n",
    "        PL_outlier.iloc[j,i] = PathLength(df.iloc[1,], Tree) \n",
    "        PL_normal.iloc[j,i] = PathLength(df.iloc[3000,], Tree)"
   ]
  },
  {
   "cell_type": "markdown",
   "metadata": {},
   "source": [
    "The impact on normal points"
   ]
  },
  {
   "cell_type": "code",
   "execution_count": 14,
   "metadata": {},
   "outputs": [
    {
     "data": {
      "text/plain": [
       "2        1.000000\n",
       "4        2.150000\n",
       "8        4.518120\n",
       "16       7.732620\n",
       "32      11.034379\n",
       "64      13.964232\n",
       "128     16.738444\n",
       "256     19.700127\n",
       "512     22.308342\n",
       "1024    23.839921\n",
       "dtype: float64"
      ]
     },
     "execution_count": 14,
     "metadata": {},
     "output_type": "execute_result"
    }
   ],
   "source": [
    "PL_normal.mean(axis = 0)"
   ]
  },
  {
   "cell_type": "markdown",
   "metadata": {},
   "source": [
    "The impact on an outlier"
   ]
  },
  {
   "cell_type": "code",
   "execution_count": 15,
   "metadata": {},
   "outputs": [
    {
     "data": {
      "text/plain": [
       "2       1.000000\n",
       "4       1.820000\n",
       "8       2.797050\n",
       "16      3.870305\n",
       "32      3.730424\n",
       "64      3.309365\n",
       "128     3.480559\n",
       "256     3.904751\n",
       "512     5.046611\n",
       "1024    5.810199\n",
       "dtype: float64"
      ]
     },
     "execution_count": 15,
     "metadata": {},
     "output_type": "execute_result"
    }
   ],
   "source": [
    "PL_outlier.mean(axis = 0)"
   ]
  },
  {
   "cell_type": "markdown",
   "metadata": {},
   "source": [
    "### Testing an iForest"
   ]
  },
  {
   "cell_type": "markdown",
   "metadata": {},
   "source": [
    "Now I'm going to build an iForest on the data and then test it's accuracy "
   ]
  },
  {
   "cell_type": "code",
   "execution_count": 16,
   "metadata": {},
   "outputs": [],
   "source": [
    "Sample_Size = 256\n",
    "Forest = iForest(df, 100, Sample_Size)"
   ]
  },
  {
   "cell_type": "code",
   "execution_count": 17,
   "metadata": {},
   "outputs": [
    {
     "data": {
      "text/plain": [
       "count    20000.000000\n",
       "mean         0.402698\n",
       "std          0.077455\n",
       "min          0.380600\n",
       "25%          0.382422\n",
       "50%          0.384028\n",
       "75%          0.387194\n",
       "max          0.854410\n",
       "dtype: float64"
      ]
     },
     "execution_count": 17,
     "metadata": {},
     "output_type": "execute_result"
    }
   ],
   "source": [
    "out_test = predict_iForest(df, Forest, Sample_Size)\n",
    "out_test.describe()"
   ]
  },
  {
   "cell_type": "markdown",
   "metadata": {},
   "source": [
    "How does an iForest work for normal points"
   ]
  },
  {
   "cell_type": "code",
   "execution_count": 18,
   "metadata": {},
   "outputs": [
    {
     "data": {
      "text/plain": [
       "count    999.000000\n",
       "mean       0.385214\n",
       "std        0.004213\n",
       "min        0.380672\n",
       "25%        0.382411\n",
       "50%        0.383855\n",
       "75%        0.386604\n",
       "max        0.418503\n",
       "dtype: float64"
      ]
     },
     "execution_count": 18,
     "metadata": {},
     "output_type": "execute_result"
    }
   ],
   "source": [
    "out_test[1001:2000].describe()"
   ]
  },
  {
   "cell_type": "markdown",
   "metadata": {},
   "source": [
    "And for outlier points"
   ]
  },
  {
   "cell_type": "code",
   "execution_count": 19,
   "metadata": {},
   "outputs": [
    {
     "data": {
      "text/plain": [
       "count    999.000000\n",
       "mean       0.736036\n",
       "std        0.052956\n",
       "min        0.501200\n",
       "25%        0.703580\n",
       "50%        0.743262\n",
       "75%        0.775547\n",
       "max        0.854410\n",
       "dtype: float64"
      ]
     },
     "execution_count": 19,
     "metadata": {},
     "output_type": "execute_result"
    }
   ],
   "source": [
    "out_test[1:1000].describe()"
   ]
  },
  {
   "cell_type": "markdown",
   "metadata": {},
   "source": [
    "There exists a clear seperation among these group!  You can see the slightl bump in the density plot"
   ]
  },
  {
   "cell_type": "code",
   "execution_count": 21,
   "metadata": {},
   "outputs": [
    {
     "data": {
      "text/plain": [
       "<matplotlib.axes._subplots.AxesSubplot at 0x7f557b0804d0>"
      ]
     },
     "execution_count": 21,
     "metadata": {},
     "output_type": "execute_result"
    },
    {
     "data": {
      "image/png": "[encoded data removed]",
      "text/plain": [
       "<Figure size 432x288 with 1 Axes>"
      ]
     },
     "metadata": {},
     "output_type": "display_data"
    }
   ],
   "source": [
    "out_test.plot.kde()"
   ]
  },
  {
   "cell_type": "markdown",
   "metadata": {},
   "source": [
    "### iForest on Wide data"
   ]
  },
  {
   "cell_type": "markdown",
   "metadata": {},
   "source": [
    "I'm going to repeat the above test, but I'm going to make the data 500 variables wide. However, only certian variables will be choosen for outliers"
   ]
  },
  {
   "cell_type": "code",
   "execution_count": 22,
   "metadata": {},
   "outputs": [],
   "source": [
    "df =  pd.DataFrame(np.random.normal(0,1,1000000).reshape(2000,500))\n",
    "df.iloc[1:100, 1:40 ] = df.iloc[1:100, 1:40 ] * 100"
   ]
  },
  {
   "cell_type": "code",
   "execution_count": 23,
   "metadata": {},
   "outputs": [],
   "source": [
    "Sample_Size = 256\n",
    "Forest = iForest(df, 500, Sample_Size)"
   ]
  },
  {
   "cell_type": "code",
   "execution_count": 24,
   "metadata": {},
   "outputs": [
    {
     "data": {
      "text/plain": [
       "count    2000.000000\n",
       "mean        0.468327\n",
       "std         0.008221\n",
       "min         0.449048\n",
       "25%         0.463509\n",
       "50%         0.467026\n",
       "75%         0.470848\n",
       "max         0.510375\n",
       "dtype: float64"
      ]
     },
     "execution_count": 24,
     "metadata": {},
     "output_type": "execute_result"
    }
   ],
   "source": [
    "out_test = predict_iForest(df, Forest, Sample_Size)\n",
    "out_test.describe()"
   ]
  },
  {
   "cell_type": "markdown",
   "metadata": {},
   "source": [
    "How well it works on normal points"
   ]
  },
  {
   "cell_type": "code",
   "execution_count": 25,
   "metadata": {},
   "outputs": [
    {
     "data": {
      "text/plain": [
       "count    1900.000000\n",
       "mean        0.466900\n",
       "std         0.005289\n",
       "min         0.449048\n",
       "25%         0.463330\n",
       "50%         0.466638\n",
       "75%         0.470204\n",
       "max         0.483714\n",
       "dtype: float64"
      ]
     },
     "execution_count": 25,
     "metadata": {},
     "output_type": "execute_result"
    }
   ],
   "source": [
    "out_test[100:2000].describe()"
   ]
  },
  {
   "cell_type": "markdown",
   "metadata": {},
   "source": [
    "And for the outlier points"
   ]
  },
  {
   "cell_type": "code",
   "execution_count": 26,
   "metadata": {},
   "outputs": [
    {
     "data": {
      "text/plain": [
       "count    99.000000\n",
       "mean      0.495675\n",
       "std       0.006443\n",
       "min       0.480442\n",
       "25%       0.491377\n",
       "50%       0.495773\n",
       "75%       0.500868\n",
       "max       0.510375\n",
       "dtype: float64"
      ]
     },
     "execution_count": 26,
     "metadata": {},
     "output_type": "execute_result"
    }
   ],
   "source": [
    "out_test[1:100].describe()"
   ]
  },
  {
   "cell_type": "markdown",
   "metadata": {},
   "source": [
    "Intresting, there is a very slightly overlap between the Max of score and the min score of an outlier. However, How would we know that, as the total spread is roughly 0.06 points. :/"
   ]
  },
  {
   "cell_type": "code",
   "execution_count": 27,
   "metadata": {},
   "outputs": [
    {
     "data": {
      "text/plain": [
       "<matplotlib.axes._subplots.AxesSubplot at 0x7f557af8f950>"
      ]
     },
     "execution_count": 27,
     "metadata": {},
     "output_type": "execute_result"
    },
    {
     "data": {
      "image/png": "[encoded data removed]",
      "text/plain": [
       "<Figure size 432x288 with 1 Axes>"
      ]
     },
     "metadata": {},
     "output_type": "display_data"
    }
   ],
   "source": [
    "out_test.plot.kde()"
   ]
  }
 ],
 "metadata": {
  "kernelspec": {
   "display_name": "Python 2",
   "language": "python",
   "name": "python2"
  },
  "language_info": {
   "codemirror_mode": {
    "name": "ipython",
    "version": 2
   },
   "file_extension": ".py",
   "mimetype": "text/x-python",
   "name": "python",
   "nbconvert_exporter": "python",
   "pygments_lexer": "ipython2",
   "version": "2.7.12"
  }
 },
 "nbformat": 4,
 "nbformat_minor": 2
}
